{
 "cells": [
  {
   "cell_type": "code",
   "execution_count": 1,
   "metadata": {},
   "outputs": [],
   "source": [
    "import pandas as pd\n",
    "import pyarrow as pa\n",
    "import pyarrow.parquet as pq\n",
    "import fastparquet as fp \n",
    "import ast\n",
    "import numpy as np"
   ]
  },
  {
   "cell_type": "code",
   "execution_count": 2,
   "metadata": {},
   "outputs": [],
   "source": [
    "#CARGA DE ARCHIVOS\n",
    "\n",
    "steam_games= pd.read_parquet(\"Data/steam_games.parquet\")\n",
    "\n",
    "user_items= pd.read_parquet(\"Data/items.parquet\")\n",
    "\n",
    "user_reviews= pd.read_parquet(\"Data/reviews.parquet\")"
   ]
  },
  {
   "cell_type": "code",
   "execution_count": 7,
   "metadata": {},
   "outputs": [
    {
     "data": {
      "text/html": [
       "<div>\n",
       "<style scoped>\n",
       "    .dataframe tbody tr th:only-of-type {\n",
       "        vertical-align: middle;\n",
       "    }\n",
       "\n",
       "    .dataframe tbody tr th {\n",
       "        vertical-align: top;\n",
       "    }\n",
       "\n",
       "    .dataframe thead th {\n",
       "        text-align: right;\n",
       "    }\n",
       "</style>\n",
       "<table border=\"1\" class=\"dataframe\">\n",
       "  <thead>\n",
       "    <tr style=\"text-align: right;\">\n",
       "      <th></th>\n",
       "      <th>user_id</th>\n",
       "      <th>item_id</th>\n",
       "      <th>recommend</th>\n",
       "      <th>sentiment_analisis</th>\n",
       "      <th>posted_year</th>\n",
       "    </tr>\n",
       "  </thead>\n",
       "  <tbody>\n",
       "    <tr>\n",
       "      <th>0</th>\n",
       "      <td>76561197970982479</td>\n",
       "      <td>1250</td>\n",
       "      <td>1</td>\n",
       "      <td>2</td>\n",
       "      <td>2011</td>\n",
       "    </tr>\n",
       "    <tr>\n",
       "      <th>1</th>\n",
       "      <td>76561197970982479</td>\n",
       "      <td>22200</td>\n",
       "      <td>1</td>\n",
       "      <td>2</td>\n",
       "      <td>2011</td>\n",
       "    </tr>\n",
       "    <tr>\n",
       "      <th>2</th>\n",
       "      <td>76561197970982479</td>\n",
       "      <td>43110</td>\n",
       "      <td>1</td>\n",
       "      <td>1</td>\n",
       "      <td>2011</td>\n",
       "    </tr>\n",
       "    <tr>\n",
       "      <th>3</th>\n",
       "      <td>js41637</td>\n",
       "      <td>251610</td>\n",
       "      <td>1</td>\n",
       "      <td>2</td>\n",
       "      <td>2014</td>\n",
       "    </tr>\n",
       "    <tr>\n",
       "      <th>4</th>\n",
       "      <td>js41637</td>\n",
       "      <td>227300</td>\n",
       "      <td>1</td>\n",
       "      <td>1</td>\n",
       "      <td>2013</td>\n",
       "    </tr>\n",
       "  </tbody>\n",
       "</table>\n",
       "</div>"
      ],
      "text/plain": [
       "             user_id item_id  recommend  sentiment_analisis posted_year\n",
       "0  76561197970982479    1250          1                   2        2011\n",
       "1  76561197970982479   22200          1                   2        2011\n",
       "2  76561197970982479   43110          1                   1        2011\n",
       "3            js41637  251610          1                   2        2014\n",
       "4            js41637  227300          1                   1        2013"
      ]
     },
     "execution_count": 7,
     "metadata": {},
     "output_type": "execute_result"
    }
   ],
   "source": [
    "#steam_games.head()\n",
    "#user_items.head()\n",
    "user_reviews.head()"
   ]
  },
  {
   "cell_type": "code",
   "execution_count": 8,
   "metadata": {},
   "outputs": [
    {
     "data": {
      "text/plain": [
       "genres          object\n",
       "app_name        object\n",
       "price          float64\n",
       "item_id          Int64\n",
       "developer       object\n",
       "Año_estreno     object\n",
       "dtype: object"
      ]
     },
     "execution_count": 8,
     "metadata": {},
     "output_type": "execute_result"
    }
   ],
   "source": [
    "steam_games.dtypes"
   ]
  },
  {
   "cell_type": "code",
   "execution_count": 9,
   "metadata": {},
   "outputs": [
    {
     "data": {
      "text/plain": [
       "user_id             object\n",
       "items_count          int64\n",
       "item_id             object\n",
       "item_name           object\n",
       "playtime_forever     int64\n",
       "playtime_2weeks      int64\n",
       "dtype: object"
      ]
     },
     "execution_count": 9,
     "metadata": {},
     "output_type": "execute_result"
    }
   ],
   "source": [
    "user_items.dtypes"
   ]
  },
  {
   "cell_type": "code",
   "execution_count": 10,
   "metadata": {},
   "outputs": [],
   "source": [
    "#Transformo el tipo de datos de item_id a integer\n",
    "user_items[\"item_id\"] = user_items[\"item_id\"].astype(\"Int64\")"
   ]
  },
  {
   "cell_type": "markdown",
   "metadata": {},
   "source": [
    "FUNCION #1: UserData"
   ]
  },
  {
   "cell_type": "code",
   "execution_count": 13,
   "metadata": {},
   "outputs": [],
   "source": [
    "#Tomo las columnas relevantes de cada DF\n",
    "cant_items= user_items[[\"user_id\",\"item_id\",\"items_count\"]]\n",
    "\n",
    "#Utilizo la columna \"recommend\" y su \"user_id\" del dataframe user_reviews\n",
    "recommend= user_reviews[[\"user_id\", \"recommend\"]]\n",
    "# Y utilizo la columna \"price\" del dataframe steam_games , luego cambio el nombre de id por \"item_id\" a fin de poder realizar\n",
    "# el merge\n",
    "cant_dinero = steam_games[[\"price\", \"item_id\"]] \n"
   ]
  },
  {
   "cell_type": "code",
   "execution_count": 14,
   "metadata": {},
   "outputs": [],
   "source": [
    "#Armo el DF final\n",
    "df_funcion1= cant_items.merge(cant_dinero, on=\"item_id\", how=\"left\")\n"
   ]
  },
  {
   "cell_type": "code",
   "execution_count": 15,
   "metadata": {},
   "outputs": [
    {
     "data": {
      "text/html": [
       "<div>\n",
       "<style scoped>\n",
       "    .dataframe tbody tr th:only-of-type {\n",
       "        vertical-align: middle;\n",
       "    }\n",
       "\n",
       "    .dataframe tbody tr th {\n",
       "        vertical-align: top;\n",
       "    }\n",
       "\n",
       "    .dataframe thead th {\n",
       "        text-align: right;\n",
       "    }\n",
       "</style>\n",
       "<table border=\"1\" class=\"dataframe\">\n",
       "  <thead>\n",
       "    <tr style=\"text-align: right;\">\n",
       "      <th></th>\n",
       "      <th>user_id</th>\n",
       "      <th>item_id</th>\n",
       "      <th>items_count</th>\n",
       "      <th>price</th>\n",
       "    </tr>\n",
       "  </thead>\n",
       "  <tbody>\n",
       "    <tr>\n",
       "      <th>0</th>\n",
       "      <td>76561197970982479</td>\n",
       "      <td>10</td>\n",
       "      <td>277</td>\n",
       "      <td>9.99</td>\n",
       "    </tr>\n",
       "    <tr>\n",
       "      <th>1</th>\n",
       "      <td>76561197970982479</td>\n",
       "      <td>20</td>\n",
       "      <td>277</td>\n",
       "      <td>4.99</td>\n",
       "    </tr>\n",
       "    <tr>\n",
       "      <th>2</th>\n",
       "      <td>76561197970982479</td>\n",
       "      <td>30</td>\n",
       "      <td>277</td>\n",
       "      <td>4.99</td>\n",
       "    </tr>\n",
       "    <tr>\n",
       "      <th>3</th>\n",
       "      <td>76561197970982479</td>\n",
       "      <td>40</td>\n",
       "      <td>277</td>\n",
       "      <td>4.99</td>\n",
       "    </tr>\n",
       "    <tr>\n",
       "      <th>4</th>\n",
       "      <td>76561197970982479</td>\n",
       "      <td>50</td>\n",
       "      <td>277</td>\n",
       "      <td>4.99</td>\n",
       "    </tr>\n",
       "  </tbody>\n",
       "</table>\n",
       "</div>"
      ],
      "text/plain": [
       "             user_id  item_id  items_count  price\n",
       "0  76561197970982479       10          277   9.99\n",
       "1  76561197970982479       20          277   4.99\n",
       "2  76561197970982479       30          277   4.99\n",
       "3  76561197970982479       40          277   4.99\n",
       "4  76561197970982479       50          277   4.99"
      ]
     },
     "execution_count": 15,
     "metadata": {},
     "output_type": "execute_result"
    }
   ],
   "source": [
    "df_funcion1.head()"
   ]
  },
  {
   "cell_type": "code",
   "execution_count": 16,
   "metadata": {},
   "outputs": [
    {
     "data": {
      "text/plain": [
       "849274"
      ]
     },
     "execution_count": 16,
     "metadata": {},
     "output_type": "execute_result"
    }
   ],
   "source": [
    "#Reviso  nulos\n",
    "df_funcion1[\"price\"].isnull().sum()"
   ]
  },
  {
   "cell_type": "code",
   "execution_count": 17,
   "metadata": {},
   "outputs": [],
   "source": [
    "# Defino una función para poder reemplazar los datos string de la columna \"price\" por flotantes 0.0\n",
    "\n",
    "def cambio_a_float(valor):\n",
    "\n",
    "    if pd.isna(valor): #esta parte de la función es para el caso de que no exista ningun string o float en el campo\n",
    "        return 0.0\n",
    "    try:\n",
    "        flotante = float(valor) #si el valor es float lo conservo\n",
    "        return flotante\n",
    "    except (ValueError, TypeError): #si el valor es diferente retorno 0.0\n",
    "        return 0.0\n",
    "    \n",
    "#Aplico esta función a la columna precio\n",
    "df_funcion1[\"price\"] = df_funcion1[\"price\"].apply(cambio_a_float)"
   ]
  },
  {
   "cell_type": "code",
   "execution_count": 18,
   "metadata": {},
   "outputs": [
    {
     "data": {
      "text/plain": [
       "0"
      ]
     },
     "execution_count": 18,
     "metadata": {},
     "output_type": "execute_result"
    }
   ],
   "source": [
    "#Vuelvo a revisar para confimar que se hayan eliminado\n",
    "df_funcion1[\"price\"].isnull().sum()"
   ]
  },
  {
   "cell_type": "code",
   "execution_count": 19,
   "metadata": {},
   "outputs": [],
   "source": [
    "#Defino la funcion #1 \n",
    "\"\"\"\n",
    "Parametro: \n",
    "        user_id(str) : ID del Usuario a consultar.\n",
    "Retorna:\n",
    "        user (dict): Información de un usuario ,\n",
    "        -cantidad de dinero gastado (int): Dinero gastado por usuario\n",
    "        -Porcentaje de recomendación usuario (float): Reviews realizadas por el usuario con respecto a la cantidad de \n",
    "        reviews poe usuario\n",
    "        -cantidad de items (int):cantidad de juegos consumidos por usuario \n",
    "\"\"\"\n",
    "def userdata(user_id):\n",
    "    #Gasto por Usuario\n",
    "    gasto = df_funcion1[df_funcion1[\"user_id\"]== user_id][\"price\"].sum()\n",
    "    \n",
    "    #Cantidad de recomendaciones del usuario ingresado\n",
    "    rec_user= recommend[recommend[\"user_id\"]== user_id][\"recommend\"].sum()\n",
    "    #Cantidad de recomendaciones totales por usuario\n",
    "    total_recomendaciones= len(user_reviews[\"user_id\"].unique())\n",
    "    porcentaje=(rec_user/total_recomendaciones)*100\n",
    "    \n",
    "    #Cantidad de juegos que utilizo el usuario \n",
    "    count= df_funcion1[df_funcion1[\"user_id\"]== user_id][\"items_count\"].iloc[0]\n",
    "    return{\n",
    "        \"Cantidad de dinero gastado\": float (gasto),\n",
    "        \"Porcentaje de recomendación usuario\": round(float(porcentaje), 3),\n",
    "        \"Cantidad de items\": int(count)\n",
    "    }"
   ]
  },
  {
   "cell_type": "code",
   "execution_count": 20,
   "metadata": {},
   "outputs": [
    {
     "data": {
      "text/plain": [
       "{'Cantidad de dinero gastado': 39.98,\n",
       " 'Porcentaje de recomendación usuario': 0.0,\n",
       " 'Cantidad de items': 3}"
      ]
     },
     "execution_count": 20,
     "metadata": {},
     "output_type": "execute_result"
    }
   ],
   "source": [
    "#Pruebo la función:\n",
    "user_id= \"76561198075035785\"\n",
    "userdata(user_id)"
   ]
  },
  {
   "cell_type": "code",
   "execution_count": 21,
   "metadata": {},
   "outputs": [
    {
     "name": "stdout",
     "output_type": "stream",
     "text": [
      "user_id\n",
      "phrostb              17007\n",
      "thugnificent         14765\n",
      "chidvd               13799\n",
      "piepai               13184\n",
      "mayshowganmore       11712\n",
      "                     ...  \n",
      "funnychat1               1\n",
      "autogear                 1\n",
      "76561198085831299        1\n",
      "76561198067630449        1\n",
      "bills4ded                1\n",
      "Name: count, Length: 70912, dtype: int64\n",
      "76561198045882569\n"
     ]
    }
   ],
   "source": [
    "#CHECKEO con usuario de poco items\n",
    "check = df_funcion1['user_id'].value_counts()\n",
    "print (check)\n",
    "print (check.index[65000])"
   ]
  },
  {
   "cell_type": "code",
   "execution_count": 22,
   "metadata": {},
   "outputs": [
    {
     "data": {
      "text/html": [
       "<div>\n",
       "<style scoped>\n",
       "    .dataframe tbody tr th:only-of-type {\n",
       "        vertical-align: middle;\n",
       "    }\n",
       "\n",
       "    .dataframe tbody tr th {\n",
       "        vertical-align: top;\n",
       "    }\n",
       "\n",
       "    .dataframe thead th {\n",
       "        text-align: right;\n",
       "    }\n",
       "</style>\n",
       "<table border=\"1\" class=\"dataframe\">\n",
       "  <thead>\n",
       "    <tr style=\"text-align: right;\">\n",
       "      <th></th>\n",
       "      <th>user_id</th>\n",
       "      <th>item_id</th>\n",
       "      <th>items_count</th>\n",
       "      <th>price</th>\n",
       "    </tr>\n",
       "  </thead>\n",
       "  <tbody>\n",
       "    <tr>\n",
       "      <th>10070065</th>\n",
       "      <td>76561198075035785</td>\n",
       "      <td>240</td>\n",
       "      <td>3</td>\n",
       "      <td>19.99</td>\n",
       "    </tr>\n",
       "    <tr>\n",
       "      <th>10070066</th>\n",
       "      <td>76561198075035785</td>\n",
       "      <td>550</td>\n",
       "      <td>3</td>\n",
       "      <td>19.99</td>\n",
       "    </tr>\n",
       "    <tr>\n",
       "      <th>10070067</th>\n",
       "      <td>76561198075035785</td>\n",
       "      <td>223530</td>\n",
       "      <td>3</td>\n",
       "      <td>0.00</td>\n",
       "    </tr>\n",
       "  </tbody>\n",
       "</table>\n",
       "</div>"
      ],
      "text/plain": [
       "                    user_id  item_id  items_count  price\n",
       "10070065  76561198075035785      240            3  19.99\n",
       "10070066  76561198075035785      550            3  19.99\n",
       "10070067  76561198075035785   223530            3   0.00"
      ]
     },
     "execution_count": 22,
     "metadata": {},
     "output_type": "execute_result"
    }
   ],
   "source": [
    "df_funcion1[df_funcion1[\"user_id\"] == \"76561198075035785\"]"
   ]
  },
  {
   "cell_type": "code",
   "execution_count": 23,
   "metadata": {},
   "outputs": [
    {
     "data": {
      "text/plain": [
       "{'Cantidad de dinero gastado': 39.98,\n",
       " 'Porcentaje de recomendación usuario': 0.0,\n",
       " 'Cantidad de items': 3}"
      ]
     },
     "execution_count": 23,
     "metadata": {},
     "output_type": "execute_result"
    }
   ],
   "source": [
    "#Checkeo que de lo mismo\n",
    "user_id= \"76561198075035785\"\n",
    "userdata(user_id)"
   ]
  },
  {
   "cell_type": "markdown",
   "metadata": {},
   "source": [
    "FUNCION #2:  UserForGenre"
   ]
  },
  {
   "cell_type": "code",
   "execution_count": 24,
   "metadata": {},
   "outputs": [
    {
     "data": {
      "text/html": [
       "<div>\n",
       "<style scoped>\n",
       "    .dataframe tbody tr th:only-of-type {\n",
       "        vertical-align: middle;\n",
       "    }\n",
       "\n",
       "    .dataframe tbody tr th {\n",
       "        vertical-align: top;\n",
       "    }\n",
       "\n",
       "    .dataframe thead th {\n",
       "        text-align: right;\n",
       "    }\n",
       "</style>\n",
       "<table border=\"1\" class=\"dataframe\">\n",
       "  <thead>\n",
       "    <tr style=\"text-align: right;\">\n",
       "      <th></th>\n",
       "      <th>user_id</th>\n",
       "      <th>items_count</th>\n",
       "      <th>item_id</th>\n",
       "      <th>item_name</th>\n",
       "      <th>playtime_forever</th>\n",
       "      <th>playtime_2weeks</th>\n",
       "    </tr>\n",
       "  </thead>\n",
       "  <tbody>\n",
       "    <tr>\n",
       "      <th>0</th>\n",
       "      <td>76561197970982479</td>\n",
       "      <td>277</td>\n",
       "      <td>10</td>\n",
       "      <td>Counter-Strike</td>\n",
       "      <td>6</td>\n",
       "      <td>0</td>\n",
       "    </tr>\n",
       "    <tr>\n",
       "      <th>1</th>\n",
       "      <td>76561197970982479</td>\n",
       "      <td>277</td>\n",
       "      <td>20</td>\n",
       "      <td>Team Fortress Classic</td>\n",
       "      <td>0</td>\n",
       "      <td>0</td>\n",
       "    </tr>\n",
       "    <tr>\n",
       "      <th>2</th>\n",
       "      <td>76561197970982479</td>\n",
       "      <td>277</td>\n",
       "      <td>30</td>\n",
       "      <td>Day of Defeat</td>\n",
       "      <td>7</td>\n",
       "      <td>0</td>\n",
       "    </tr>\n",
       "    <tr>\n",
       "      <th>3</th>\n",
       "      <td>76561197970982479</td>\n",
       "      <td>277</td>\n",
       "      <td>40</td>\n",
       "      <td>Deathmatch Classic</td>\n",
       "      <td>0</td>\n",
       "      <td>0</td>\n",
       "    </tr>\n",
       "    <tr>\n",
       "      <th>4</th>\n",
       "      <td>76561197970982479</td>\n",
       "      <td>277</td>\n",
       "      <td>50</td>\n",
       "      <td>Half-Life: Opposing Force</td>\n",
       "      <td>0</td>\n",
       "      <td>0</td>\n",
       "    </tr>\n",
       "  </tbody>\n",
       "</table>\n",
       "</div>"
      ],
      "text/plain": [
       "             user_id  items_count  item_id                  item_name  \\\n",
       "0  76561197970982479          277       10             Counter-Strike   \n",
       "1  76561197970982479          277       20      Team Fortress Classic   \n",
       "2  76561197970982479          277       30              Day of Defeat   \n",
       "3  76561197970982479          277       40         Deathmatch Classic   \n",
       "4  76561197970982479          277       50  Half-Life: Opposing Force   \n",
       "\n",
       "   playtime_forever  playtime_2weeks  \n",
       "0                 6                0  \n",
       "1                 0                0  \n",
       "2                 7                0  \n",
       "3                 0                0  \n",
       "4                 0                0  "
      ]
     },
     "execution_count": 24,
     "metadata": {},
     "output_type": "execute_result"
    }
   ],
   "source": [
    "user_items.head()"
   ]
  },
  {
   "cell_type": "code",
   "execution_count": 25,
   "metadata": {},
   "outputs": [],
   "source": [
    "#Elimino los registros donde playtime_forever es igual a 0\n",
    "\n",
    "user_items_limpio = user_items[user_items['playtime_forever'] != 0]\n"
   ]
  },
  {
   "cell_type": "code",
   "execution_count": 26,
   "metadata": {},
   "outputs": [
    {
     "data": {
      "text/html": [
       "<div>\n",
       "<style scoped>\n",
       "    .dataframe tbody tr th:only-of-type {\n",
       "        vertical-align: middle;\n",
       "    }\n",
       "\n",
       "    .dataframe tbody tr th {\n",
       "        vertical-align: top;\n",
       "    }\n",
       "\n",
       "    .dataframe thead th {\n",
       "        text-align: right;\n",
       "    }\n",
       "</style>\n",
       "<table border=\"1\" class=\"dataframe\">\n",
       "  <thead>\n",
       "    <tr style=\"text-align: right;\">\n",
       "      <th></th>\n",
       "      <th>genres</th>\n",
       "      <th>item_id</th>\n",
       "      <th>Año_estreno</th>\n",
       "    </tr>\n",
       "  </thead>\n",
       "  <tbody>\n",
       "    <tr>\n",
       "      <th>88310</th>\n",
       "      <td>Action</td>\n",
       "      <td>761140</td>\n",
       "      <td>2018</td>\n",
       "    </tr>\n",
       "    <tr>\n",
       "      <th>88310</th>\n",
       "      <td>Casual</td>\n",
       "      <td>761140</td>\n",
       "      <td>2018</td>\n",
       "    </tr>\n",
       "    <tr>\n",
       "      <th>88310</th>\n",
       "      <td>Indie</td>\n",
       "      <td>761140</td>\n",
       "      <td>2018</td>\n",
       "    </tr>\n",
       "    <tr>\n",
       "      <th>88310</th>\n",
       "      <td>Simulation</td>\n",
       "      <td>761140</td>\n",
       "      <td>2018</td>\n",
       "    </tr>\n",
       "    <tr>\n",
       "      <th>88310</th>\n",
       "      <td>Strategy</td>\n",
       "      <td>761140</td>\n",
       "      <td>2018</td>\n",
       "    </tr>\n",
       "  </tbody>\n",
       "</table>\n",
       "</div>"
      ],
      "text/plain": [
       "           genres  item_id Año_estreno\n",
       "88310      Action   761140        2018\n",
       "88310      Casual   761140        2018\n",
       "88310       Indie   761140        2018\n",
       "88310  Simulation   761140        2018\n",
       "88310    Strategy   761140        2018"
      ]
     },
     "execution_count": 26,
     "metadata": {},
     "output_type": "execute_result"
    }
   ],
   "source": [
    "#Creo DataFrame de Generos a partir del DataFrame steam_games\n",
    "genre= steam_games[[\"genres\",\"item_id\",\"Año_estreno\"]]\n",
    "genre.head()"
   ]
  },
  {
   "cell_type": "code",
   "execution_count": 27,
   "metadata": {},
   "outputs": [
    {
     "data": {
      "text/html": [
       "<div>\n",
       "<style scoped>\n",
       "    .dataframe tbody tr th:only-of-type {\n",
       "        vertical-align: middle;\n",
       "    }\n",
       "\n",
       "    .dataframe tbody tr th {\n",
       "        vertical-align: top;\n",
       "    }\n",
       "\n",
       "    .dataframe thead th {\n",
       "        text-align: right;\n",
       "    }\n",
       "</style>\n",
       "<table border=\"1\" class=\"dataframe\">\n",
       "  <thead>\n",
       "    <tr style=\"text-align: right;\">\n",
       "      <th></th>\n",
       "      <th>user_id</th>\n",
       "      <th>items_count</th>\n",
       "      <th>item_id</th>\n",
       "      <th>item_name</th>\n",
       "      <th>playtime_forever</th>\n",
       "      <th>playtime_2weeks</th>\n",
       "      <th>genres</th>\n",
       "      <th>Año_estreno</th>\n",
       "    </tr>\n",
       "  </thead>\n",
       "  <tbody>\n",
       "    <tr>\n",
       "      <th>0</th>\n",
       "      <td>76561197970982479</td>\n",
       "      <td>277</td>\n",
       "      <td>10</td>\n",
       "      <td>Counter-Strike</td>\n",
       "      <td>6</td>\n",
       "      <td>0</td>\n",
       "      <td>Action</td>\n",
       "      <td>2000</td>\n",
       "    </tr>\n",
       "    <tr>\n",
       "      <th>1</th>\n",
       "      <td>doctr</td>\n",
       "      <td>541</td>\n",
       "      <td>10</td>\n",
       "      <td>Counter-Strike</td>\n",
       "      <td>93</td>\n",
       "      <td>0</td>\n",
       "      <td>Action</td>\n",
       "      <td>2000</td>\n",
       "    </tr>\n",
       "    <tr>\n",
       "      <th>2</th>\n",
       "      <td>corrupted_soul</td>\n",
       "      <td>115</td>\n",
       "      <td>10</td>\n",
       "      <td>Counter-Strike</td>\n",
       "      <td>108</td>\n",
       "      <td>0</td>\n",
       "      <td>Action</td>\n",
       "      <td>2000</td>\n",
       "    </tr>\n",
       "    <tr>\n",
       "      <th>3</th>\n",
       "      <td>WeiEDKrSat</td>\n",
       "      <td>28</td>\n",
       "      <td>10</td>\n",
       "      <td>Counter-Strike</td>\n",
       "      <td>328</td>\n",
       "      <td>0</td>\n",
       "      <td>Action</td>\n",
       "      <td>2000</td>\n",
       "    </tr>\n",
       "    <tr>\n",
       "      <th>4</th>\n",
       "      <td>death-hunter</td>\n",
       "      <td>121</td>\n",
       "      <td>10</td>\n",
       "      <td>Counter-Strike</td>\n",
       "      <td>6275</td>\n",
       "      <td>0</td>\n",
       "      <td>Action</td>\n",
       "      <td>2000</td>\n",
       "    </tr>\n",
       "  </tbody>\n",
       "</table>\n",
       "</div>"
      ],
      "text/plain": [
       "             user_id  items_count  item_id       item_name  playtime_forever  \\\n",
       "0  76561197970982479          277       10  Counter-Strike                 6   \n",
       "1              doctr          541       10  Counter-Strike                93   \n",
       "2     corrupted_soul          115       10  Counter-Strike               108   \n",
       "3         WeiEDKrSat           28       10  Counter-Strike               328   \n",
       "4       death-hunter          121       10  Counter-Strike              6275   \n",
       "\n",
       "   playtime_2weeks  genres Año_estreno  \n",
       "0                0  Action        2000  \n",
       "1                0  Action        2000  \n",
       "2                0  Action        2000  \n",
       "3                0  Action        2000  \n",
       "4                0  Action        2000  "
      ]
     },
     "execution_count": 27,
     "metadata": {},
     "output_type": "execute_result"
    }
   ],
   "source": [
    "# Combino los DataFrames para obtener información relevante\n",
    "df_funcion2 = user_items_limpio.merge(genre, on='item_id')\n",
    "df_funcion2.head()"
   ]
  },
  {
   "cell_type": "code",
   "execution_count": 28,
   "metadata": {},
   "outputs": [],
   "source": [
    "#Elimino columnas innecesarias\n",
    "df_funcion2.drop([\"items_count\",\"playtime_2weeks\", \"item_name\",\"item_id\"], axis=1, inplace=True)"
   ]
  },
  {
   "cell_type": "code",
   "execution_count": 29,
   "metadata": {},
   "outputs": [
    {
     "data": {
      "text/html": [
       "<div>\n",
       "<style scoped>\n",
       "    .dataframe tbody tr th:only-of-type {\n",
       "        vertical-align: middle;\n",
       "    }\n",
       "\n",
       "    .dataframe tbody tr th {\n",
       "        vertical-align: top;\n",
       "    }\n",
       "\n",
       "    .dataframe thead th {\n",
       "        text-align: right;\n",
       "    }\n",
       "</style>\n",
       "<table border=\"1\" class=\"dataframe\">\n",
       "  <thead>\n",
       "    <tr style=\"text-align: right;\">\n",
       "      <th></th>\n",
       "      <th>genres</th>\n",
       "      <th>user_id</th>\n",
       "      <th>playtime_forever</th>\n",
       "    </tr>\n",
       "  </thead>\n",
       "  <tbody>\n",
       "    <tr>\n",
       "      <th>0</th>\n",
       "      <td>Action</td>\n",
       "      <td>--000--</td>\n",
       "      <td>139469</td>\n",
       "    </tr>\n",
       "    <tr>\n",
       "      <th>1</th>\n",
       "      <td>Action</td>\n",
       "      <td>--ace--</td>\n",
       "      <td>69325</td>\n",
       "    </tr>\n",
       "    <tr>\n",
       "      <th>2</th>\n",
       "      <td>Action</td>\n",
       "      <td>--ionex--</td>\n",
       "      <td>38315</td>\n",
       "    </tr>\n",
       "    <tr>\n",
       "      <th>3</th>\n",
       "      <td>Action</td>\n",
       "      <td>-2SV-vuLB-Kg</td>\n",
       "      <td>42500</td>\n",
       "    </tr>\n",
       "    <tr>\n",
       "      <th>4</th>\n",
       "      <td>Action</td>\n",
       "      <td>-404PageNotFound-</td>\n",
       "      <td>117423</td>\n",
       "    </tr>\n",
       "  </tbody>\n",
       "</table>\n",
       "</div>"
      ],
      "text/plain": [
       "   genres            user_id  playtime_forever\n",
       "0  Action            --000--            139469\n",
       "1  Action            --ace--             69325\n",
       "2  Action          --ionex--             38315\n",
       "3  Action       -2SV-vuLB-Kg             42500\n",
       "4  Action  -404PageNotFound-            117423"
      ]
     },
     "execution_count": 29,
     "metadata": {},
     "output_type": "execute_result"
    }
   ],
   "source": [
    "# Defino DF para la función agrupando por género y usuario\n",
    "usuario_mas_horas = df_funcion2.groupby(['genres','user_id'])['playtime_forever'].sum().reset_index()\n",
    "usuario_mas_horas.head()"
   ]
  },
  {
   "cell_type": "code",
   "execution_count": 30,
   "metadata": {},
   "outputs": [
    {
     "data": {
      "text/html": [
       "<div>\n",
       "<style scoped>\n",
       "    .dataframe tbody tr th:only-of-type {\n",
       "        vertical-align: middle;\n",
       "    }\n",
       "\n",
       "    .dataframe tbody tr th {\n",
       "        vertical-align: top;\n",
       "    }\n",
       "\n",
       "    .dataframe thead th {\n",
       "        text-align: right;\n",
       "    }\n",
       "</style>\n",
       "<table border=\"1\" class=\"dataframe\">\n",
       "  <thead>\n",
       "    <tr style=\"text-align: right;\">\n",
       "      <th></th>\n",
       "      <th>Año_estreno</th>\n",
       "      <th>user_id</th>\n",
       "      <th>genres</th>\n",
       "      <th>playtime_forever</th>\n",
       "    </tr>\n",
       "  </thead>\n",
       "  <tbody>\n",
       "    <tr>\n",
       "      <th>0</th>\n",
       "      <td>1983</td>\n",
       "      <td>2Ta4</td>\n",
       "      <td>Action</td>\n",
       "      <td>18</td>\n",
       "    </tr>\n",
       "    <tr>\n",
       "      <th>1</th>\n",
       "      <td>1983</td>\n",
       "      <td>2Ta4</td>\n",
       "      <td>Adventure</td>\n",
       "      <td>18</td>\n",
       "    </tr>\n",
       "    <tr>\n",
       "      <th>2</th>\n",
       "      <td>1983</td>\n",
       "      <td>2Ta4</td>\n",
       "      <td>Casual</td>\n",
       "      <td>18</td>\n",
       "    </tr>\n",
       "    <tr>\n",
       "      <th>3</th>\n",
       "      <td>1983</td>\n",
       "      <td>76561197966936422</td>\n",
       "      <td>Action</td>\n",
       "      <td>331</td>\n",
       "    </tr>\n",
       "    <tr>\n",
       "      <th>4</th>\n",
       "      <td>1983</td>\n",
       "      <td>76561197966936422</td>\n",
       "      <td>Adventure</td>\n",
       "      <td>331</td>\n",
       "    </tr>\n",
       "  </tbody>\n",
       "</table>\n",
       "</div>"
      ],
      "text/plain": [
       "  Año_estreno            user_id     genres  playtime_forever\n",
       "0        1983               2Ta4     Action                18\n",
       "1        1983               2Ta4  Adventure                18\n",
       "2        1983               2Ta4     Casual                18\n",
       "3        1983  76561197966936422     Action               331\n",
       "4        1983  76561197966936422  Adventure               331"
      ]
     },
     "execution_count": 30,
     "metadata": {},
     "output_type": "execute_result"
    }
   ],
   "source": [
    "# Defino DF para la función agrupando por género y usuario Año estreno\n",
    "tiempo_por_anio = df_funcion2.groupby(['Año_estreno','user_id','genres'])['playtime_forever'].sum().reset_index()\n",
    "tiempo_por_anio.head()"
   ]
  },
  {
   "cell_type": "code",
   "execution_count": 31,
   "metadata": {},
   "outputs": [],
   "source": [
    "#Defino la funcion #2 ####\n",
    "\"\"\"\n",
    "Parametro: \n",
    "        genero: (str) : Género a consultar.\n",
    "Retorna:\n",
    "        usuario que acumula más horas jugadas para el género dado \n",
    "        lista de la acumulación de horas jugadas por año de lanzamiento.\n",
    "\"\"\"\n",
    "def UserForGenre(genero):\n",
    "    \n",
    "        df_genero_deseado = usuario_mas_horas[usuario_mas_horas[\"genres\"] == genero]\n",
    "    \n",
    "        if df_genero_deseado.empty:\n",
    "                return {\"Mensaje\": f\"No hay datos para el género '{genero}'\"}\n",
    "\n",
    "\n",
    "    # Encuentra el usuario que más jugó ese género.\n",
    "        usuario_mas_jugo = df_genero_deseado.groupby('user_id')[\"playtime_forever\"].sum().idxmax()\n",
    "    \n",
    "        horas_jugadas_por_anio = tiempo_por_anio[(tiempo_por_anio[\"genres\"] == genero) & \n",
    "                            (tiempo_por_anio[\"user_id\"] == usuario_mas_jugo)].drop([\"user_id\", \"genres\"], axis=1)\n",
    "\n",
    "\n",
    "        retorno = {\"Usuario con más horas jugadas para \" + genero: usuario_mas_jugo , \n",
    "                \"Horas jugadas\": [{\"Año\": anio, \"Horas\": horas} for anio, horas in \n",
    "                horas_jugadas_por_anio.reset_index(drop=True).values]}\n",
    "\n",
    "        return retorno"
   ]
  },
  {
   "cell_type": "code",
   "execution_count": 32,
   "metadata": {},
   "outputs": [
    {
     "data": {
      "text/plain": [
       "{'Usuario con más horas jugadas para Indie': 'REBAS_AS_F-T',\n",
       " 'Horas jugadas': [{'Año': '2001', 'Horas': 11},\n",
       "  {'Año': '2003', 'Horas': 1863},\n",
       "  {'Año': '2006', 'Horas': 1673},\n",
       "  {'Año': '2007', 'Horas': 1070},\n",
       "  {'Año': '2008', 'Horas': 1366},\n",
       "  {'Año': '2009', 'Horas': 28993},\n",
       "  {'Año': '2010', 'Horas': 21487},\n",
       "  {'Año': '2011', 'Horas': 100155},\n",
       "  {'Año': '2012', 'Horas': 148459},\n",
       "  {'Año': '2013', 'Horas': 169349},\n",
       "  {'Año': '2014', 'Horas': 326927},\n",
       "  {'Año': '2015', 'Horas': 751765},\n",
       "  {'Año': '2016', 'Horas': 815989},\n",
       "  {'Año': '2017', 'Horas': 33887}]}"
      ]
     },
     "execution_count": 32,
     "metadata": {},
     "output_type": "execute_result"
    }
   ],
   "source": [
    "#Pruebo la función:\n",
    "UserForGenre(\"Indie\")"
   ]
  },
  {
   "cell_type": "code",
   "execution_count": 33,
   "metadata": {},
   "outputs": [
    {
     "data": {
      "text/html": [
       "<div>\n",
       "<style scoped>\n",
       "    .dataframe tbody tr th:only-of-type {\n",
       "        vertical-align: middle;\n",
       "    }\n",
       "\n",
       "    .dataframe tbody tr th {\n",
       "        vertical-align: top;\n",
       "    }\n",
       "\n",
       "    .dataframe thead th {\n",
       "        text-align: right;\n",
       "    }\n",
       "</style>\n",
       "<table border=\"1\" class=\"dataframe\">\n",
       "  <thead>\n",
       "    <tr style=\"text-align: right;\">\n",
       "      <th></th>\n",
       "      <th>user_id</th>\n",
       "      <th>playtime_forever</th>\n",
       "      <th>genres</th>\n",
       "      <th>Año_estreno</th>\n",
       "    </tr>\n",
       "  </thead>\n",
       "  <tbody>\n",
       "    <tr>\n",
       "      <th>5226476</th>\n",
       "      <td>REBAS_AS_F-T</td>\n",
       "      <td>11</td>\n",
       "      <td>Action</td>\n",
       "      <td>2001</td>\n",
       "    </tr>\n",
       "    <tr>\n",
       "      <th>5226477</th>\n",
       "      <td>REBAS_AS_F-T</td>\n",
       "      <td>11</td>\n",
       "      <td>Free to Play</td>\n",
       "      <td>2001</td>\n",
       "    </tr>\n",
       "    <tr>\n",
       "      <th>5226478</th>\n",
       "      <td>REBAS_AS_F-T</td>\n",
       "      <td>11</td>\n",
       "      <td>Indie</td>\n",
       "      <td>2001</td>\n",
       "    </tr>\n",
       "  </tbody>\n",
       "</table>\n",
       "</div>"
      ],
      "text/plain": [
       "              user_id  playtime_forever        genres Año_estreno\n",
       "5226476  REBAS_AS_F-T                11        Action        2001\n",
       "5226477  REBAS_AS_F-T                11  Free to Play        2001\n",
       "5226478  REBAS_AS_F-T                11         Indie        2001"
      ]
     },
     "execution_count": 33,
     "metadata": {},
     "output_type": "execute_result"
    }
   ],
   "source": [
    "#CHECKEO \n",
    "prueba = df_funcion2[(df_funcion2[\"Año_estreno\"] == \"2001\") & (df_funcion2[\"user_id\"] == \"REBAS_AS_F-T\")]\n",
    "prueba.sort_values(by=\"Año_estreno\", ascending=True)\n",
    "\n"
   ]
  },
  {
   "cell_type": "markdown",
   "metadata": {},
   "source": [
    "FUNCION #3: DEVELOPER   "
   ]
  },
  {
   "cell_type": "code",
   "execution_count": 36,
   "metadata": {},
   "outputs": [
    {
     "data": {
      "text/html": [
       "<div>\n",
       "<style scoped>\n",
       "    .dataframe tbody tr th:only-of-type {\n",
       "        vertical-align: middle;\n",
       "    }\n",
       "\n",
       "    .dataframe tbody tr th {\n",
       "        vertical-align: top;\n",
       "    }\n",
       "\n",
       "    .dataframe thead th {\n",
       "        text-align: right;\n",
       "    }\n",
       "</style>\n",
       "<table border=\"1\" class=\"dataframe\">\n",
       "  <thead>\n",
       "    <tr style=\"text-align: right;\">\n",
       "      <th></th>\n",
       "      <th>app_name</th>\n",
       "      <th>price</th>\n",
       "      <th>item_id</th>\n",
       "      <th>developer</th>\n",
       "      <th>Año_estreno</th>\n",
       "    </tr>\n",
       "  </thead>\n",
       "  <tbody>\n",
       "    <tr>\n",
       "      <th>88310</th>\n",
       "      <td>Lost Summoner Kitty</td>\n",
       "      <td>4.99</td>\n",
       "      <td>761140</td>\n",
       "      <td>Kotoshiro</td>\n",
       "      <td>2018</td>\n",
       "    </tr>\n",
       "    <tr>\n",
       "      <th>88310</th>\n",
       "      <td>Lost Summoner Kitty</td>\n",
       "      <td>4.99</td>\n",
       "      <td>761140</td>\n",
       "      <td>Kotoshiro</td>\n",
       "      <td>2018</td>\n",
       "    </tr>\n",
       "    <tr>\n",
       "      <th>88310</th>\n",
       "      <td>Lost Summoner Kitty</td>\n",
       "      <td>4.99</td>\n",
       "      <td>761140</td>\n",
       "      <td>Kotoshiro</td>\n",
       "      <td>2018</td>\n",
       "    </tr>\n",
       "    <tr>\n",
       "      <th>88310</th>\n",
       "      <td>Lost Summoner Kitty</td>\n",
       "      <td>4.99</td>\n",
       "      <td>761140</td>\n",
       "      <td>Kotoshiro</td>\n",
       "      <td>2018</td>\n",
       "    </tr>\n",
       "    <tr>\n",
       "      <th>88310</th>\n",
       "      <td>Lost Summoner Kitty</td>\n",
       "      <td>4.99</td>\n",
       "      <td>761140</td>\n",
       "      <td>Kotoshiro</td>\n",
       "      <td>2018</td>\n",
       "    </tr>\n",
       "  </tbody>\n",
       "</table>\n",
       "</div>"
      ],
      "text/plain": [
       "                  app_name  price  item_id  developer Año_estreno\n",
       "88310  Lost Summoner Kitty   4.99   761140  Kotoshiro        2018\n",
       "88310  Lost Summoner Kitty   4.99   761140  Kotoshiro        2018\n",
       "88310  Lost Summoner Kitty   4.99   761140  Kotoshiro        2018\n",
       "88310  Lost Summoner Kitty   4.99   761140  Kotoshiro        2018\n",
       "88310  Lost Summoner Kitty   4.99   761140  Kotoshiro        2018"
      ]
     },
     "execution_count": 36,
     "metadata": {},
     "output_type": "execute_result"
    }
   ],
   "source": [
    "#Creo DataFrame de games sin genero\n",
    "games_sin_genre = steam_games.drop(\"genres\", axis=1)\n",
    "games_sin_genre.head()"
   ]
  },
  {
   "cell_type": "code",
   "execution_count": 37,
   "metadata": {},
   "outputs": [],
   "source": [
    "#Ahora van a quedar muchos duplicados porque había registros casi repetidos por el desanidado de la columna genero. Los elimino\n",
    "df_funcion3 = games_sin_genre.drop_duplicates(keep= \"first\")"
   ]
  },
  {
   "cell_type": "code",
   "execution_count": 38,
   "metadata": {},
   "outputs": [],
   "source": [
    "#Defino la funcion #3\n",
    "\"\"\"\n",
    "Parametros:\n",
    "        -desarrollador (str): El desarrollador del juego Steam que se ingresa \n",
    "Retorna: dataframe:\n",
    "        -Año\n",
    "        -Cantidad de items por año: cantidad de juegos publicados por el desarrollador en el año \n",
    "        -Porcentaje de juegos free: porcentaje de juegos gratis con respecto a los publicados en ese año\n",
    "\"\"\"\n",
    "def developer(desarrollador):\n",
    "    \n",
    "    #Se filtra el dataframe df_funcion3 para igualarlo al dato que se ingresa\n",
    "    data= df_funcion3[df_funcion3[\"developer\"]== desarrollador]\n",
    "    if data.empty:\n",
    "        return {\"message\": \"Desarrollador no encontrado\"}\n",
    "    #Se agrupa por año para contar los items por año\n",
    "    cantidad = data.groupby(\"Año_estreno\")[\"item_id\"].count()\n",
    "    #Se agrupa por price para encontrar la cantidad free\n",
    "    free_anio= data[data[\"price\"]== 0.0].groupby(\"Año_estreno\")[\"item_id\"].count()\n",
    "    porcentaje_gratis= (free_anio/cantidad*100).fillna(0).astype(int)\n",
    "    \n",
    "    #se crea una salida como dataframe\n",
    "    tabla= pd.DataFrame({\n",
    "        \"Año\": cantidad.index, #indice\n",
    "        \"Cantidad de items por año\" : cantidad.values, #valor\n",
    "        \"Porcentaje de juegos free\" : porcentaje_gratis.values #valor\n",
    "    })\n",
    "    #tabla= tabla.to_dict(orient=\"records\")\n",
    "    return tabla"
   ]
  },
  {
   "cell_type": "code",
   "execution_count": 41,
   "metadata": {},
   "outputs": [
    {
     "data": {
      "text/html": [
       "<div>\n",
       "<style scoped>\n",
       "    .dataframe tbody tr th:only-of-type {\n",
       "        vertical-align: middle;\n",
       "    }\n",
       "\n",
       "    .dataframe tbody tr th {\n",
       "        vertical-align: top;\n",
       "    }\n",
       "\n",
       "    .dataframe thead th {\n",
       "        text-align: right;\n",
       "    }\n",
       "</style>\n",
       "<table border=\"1\" class=\"dataframe\">\n",
       "  <thead>\n",
       "    <tr style=\"text-align: right;\">\n",
       "      <th></th>\n",
       "      <th>Año</th>\n",
       "      <th>Cantidad de items por año</th>\n",
       "      <th>Porcentaje de juegos free</th>\n",
       "    </tr>\n",
       "  </thead>\n",
       "  <tbody>\n",
       "    <tr>\n",
       "      <th>0</th>\n",
       "      <td>2012</td>\n",
       "      <td>114</td>\n",
       "      <td>0</td>\n",
       "    </tr>\n",
       "    <tr>\n",
       "      <th>1</th>\n",
       "      <td>2013</td>\n",
       "      <td>116</td>\n",
       "      <td>0</td>\n",
       "    </tr>\n",
       "    <tr>\n",
       "      <th>2</th>\n",
       "      <td>2014</td>\n",
       "      <td>265</td>\n",
       "      <td>0</td>\n",
       "    </tr>\n",
       "    <tr>\n",
       "      <th>3</th>\n",
       "      <td>2015</td>\n",
       "      <td>248</td>\n",
       "      <td>0</td>\n",
       "    </tr>\n",
       "    <tr>\n",
       "      <th>4</th>\n",
       "      <td>2016</td>\n",
       "      <td>247</td>\n",
       "      <td>0</td>\n",
       "    </tr>\n",
       "    <tr>\n",
       "      <th>5</th>\n",
       "      <td>2017</td>\n",
       "      <td>269</td>\n",
       "      <td>0</td>\n",
       "    </tr>\n",
       "  </tbody>\n",
       "</table>\n",
       "</div>"
      ],
      "text/plain": [
       "    Año  Cantidad de items por año  Porcentaje de juegos free\n",
       "0  2012                        114                          0\n",
       "1  2013                        116                          0\n",
       "2  2014                        265                          0\n",
       "3  2015                        248                          0\n",
       "4  2016                        247                          0\n",
       "5  2017                        269                          0"
      ]
     },
     "execution_count": 41,
     "metadata": {},
     "output_type": "execute_result"
    }
   ],
   "source": [
    "#Pruebo la Función:\n",
    "desarrollador = \"Ubisoft - San Francisco\"\n",
    "developer(desarrollador)"
   ]
  },
  {
   "cell_type": "markdown",
   "metadata": {},
   "source": [
    "FUNCION #4: best_developer_year"
   ]
  },
  {
   "cell_type": "code",
   "execution_count": 34,
   "metadata": {},
   "outputs": [],
   "source": [
    "#Reviso types\n",
    "#user_items.dtypes\n",
    "#steam_games.dtypes\n",
    "#user_reviews.dtypes"
   ]
  },
  {
   "cell_type": "code",
   "execution_count": 42,
   "metadata": {},
   "outputs": [],
   "source": [
    "# Convertir la columna 'item_id' del DataFrame games a tipo numérico (si está en formato cadena)\n",
    "user_reviews['item_id'] = user_reviews['item_id'].astype('Int64')\n",
    "\n",
    "# Convertir la columna 'item_id' del DataFrame user_items a tipo numérico (si está en formato cadena)\n",
    "user_reviews['item_id'] = user_reviews['item_id'].astype('Int64')\n",
    "\n"
   ]
  },
  {
   "cell_type": "code",
   "execution_count": 43,
   "metadata": {},
   "outputs": [
    {
     "data": {
      "text/html": [
       "<div>\n",
       "<style scoped>\n",
       "    .dataframe tbody tr th:only-of-type {\n",
       "        vertical-align: middle;\n",
       "    }\n",
       "\n",
       "    .dataframe tbody tr th {\n",
       "        vertical-align: top;\n",
       "    }\n",
       "\n",
       "    .dataframe thead th {\n",
       "        text-align: right;\n",
       "    }\n",
       "</style>\n",
       "<table border=\"1\" class=\"dataframe\">\n",
       "  <thead>\n",
       "    <tr style=\"text-align: right;\">\n",
       "      <th></th>\n",
       "      <th>user_id</th>\n",
       "      <th>items_count</th>\n",
       "      <th>item_id</th>\n",
       "      <th>item_name</th>\n",
       "      <th>playtime_forever</th>\n",
       "      <th>playtime_2weeks</th>\n",
       "      <th>genres</th>\n",
       "      <th>app_name</th>\n",
       "      <th>price</th>\n",
       "      <th>developer</th>\n",
       "      <th>Año_estreno</th>\n",
       "      <th>recommend</th>\n",
       "      <th>sentiment_analisis</th>\n",
       "      <th>posted_year</th>\n",
       "    </tr>\n",
       "  </thead>\n",
       "  <tbody>\n",
       "    <tr>\n",
       "      <th>0</th>\n",
       "      <td>Bennysaputra</td>\n",
       "      <td>87</td>\n",
       "      <td>10</td>\n",
       "      <td>Counter-Strike</td>\n",
       "      <td>24336</td>\n",
       "      <td>6</td>\n",
       "      <td>Action</td>\n",
       "      <td>Counter-Strike</td>\n",
       "      <td>9.99</td>\n",
       "      <td>Valve</td>\n",
       "      <td>2000</td>\n",
       "      <td>1</td>\n",
       "      <td>1</td>\n",
       "      <td>2015</td>\n",
       "    </tr>\n",
       "    <tr>\n",
       "      <th>1</th>\n",
       "      <td>76561198040188061</td>\n",
       "      <td>174</td>\n",
       "      <td>10</td>\n",
       "      <td>Counter-Strike</td>\n",
       "      <td>3895</td>\n",
       "      <td>0</td>\n",
       "      <td>Action</td>\n",
       "      <td>Counter-Strike</td>\n",
       "      <td>9.99</td>\n",
       "      <td>Valve</td>\n",
       "      <td>2000</td>\n",
       "      <td>1</td>\n",
       "      <td>2</td>\n",
       "      <td>2011</td>\n",
       "    </tr>\n",
       "    <tr>\n",
       "      <th>2</th>\n",
       "      <td>mayshowganmore</td>\n",
       "      <td>5027</td>\n",
       "      <td>10</td>\n",
       "      <td>Counter-Strike</td>\n",
       "      <td>10113</td>\n",
       "      <td>0</td>\n",
       "      <td>Action</td>\n",
       "      <td>Counter-Strike</td>\n",
       "      <td>9.99</td>\n",
       "      <td>Valve</td>\n",
       "      <td>2000</td>\n",
       "      <td>1</td>\n",
       "      <td>1</td>\n",
       "      <td>2014</td>\n",
       "    </tr>\n",
       "    <tr>\n",
       "      <th>3</th>\n",
       "      <td>BestinTheWorldThund3r</td>\n",
       "      <td>112</td>\n",
       "      <td>10</td>\n",
       "      <td>Counter-Strike</td>\n",
       "      <td>264</td>\n",
       "      <td>0</td>\n",
       "      <td>Action</td>\n",
       "      <td>Counter-Strike</td>\n",
       "      <td>9.99</td>\n",
       "      <td>Valve</td>\n",
       "      <td>2000</td>\n",
       "      <td>1</td>\n",
       "      <td>2</td>\n",
       "      <td>2014</td>\n",
       "    </tr>\n",
       "    <tr>\n",
       "      <th>4</th>\n",
       "      <td>apex124</td>\n",
       "      <td>38</td>\n",
       "      <td>10</td>\n",
       "      <td>Counter-Strike</td>\n",
       "      <td>1558</td>\n",
       "      <td>1</td>\n",
       "      <td>Action</td>\n",
       "      <td>Counter-Strike</td>\n",
       "      <td>9.99</td>\n",
       "      <td>Valve</td>\n",
       "      <td>2000</td>\n",
       "      <td>1</td>\n",
       "      <td>1</td>\n",
       "      <td>None</td>\n",
       "    </tr>\n",
       "  </tbody>\n",
       "</table>\n",
       "</div>"
      ],
      "text/plain": [
       "                 user_id  items_count  item_id       item_name  \\\n",
       "0           Bennysaputra           87       10  Counter-Strike   \n",
       "1      76561198040188061          174       10  Counter-Strike   \n",
       "2         mayshowganmore         5027       10  Counter-Strike   \n",
       "3  BestinTheWorldThund3r          112       10  Counter-Strike   \n",
       "4                apex124           38       10  Counter-Strike   \n",
       "\n",
       "   playtime_forever  playtime_2weeks  genres        app_name  price developer  \\\n",
       "0             24336                6  Action  Counter-Strike   9.99     Valve   \n",
       "1              3895                0  Action  Counter-Strike   9.99     Valve   \n",
       "2             10113                0  Action  Counter-Strike   9.99     Valve   \n",
       "3               264                0  Action  Counter-Strike   9.99     Valve   \n",
       "4              1558                1  Action  Counter-Strike   9.99     Valve   \n",
       "\n",
       "  Año_estreno  recommend  sentiment_analisis posted_year  \n",
       "0        2000          1                   1        2015  \n",
       "1        2000          1                   2        2011  \n",
       "2        2000          1                   1        2014  \n",
       "3        2000          1                   2        2014  \n",
       "4        2000          1                   1        None  "
      ]
     },
     "execution_count": 43,
     "metadata": {},
     "output_type": "execute_result"
    }
   ],
   "source": [
    "# Realizo el merge de los DataFrames antes de definir la función\n",
    "df_combinado2 = user_items.merge(steam_games, on='item_id')\n",
    "df_combinado2 = df_combinado2.merge(user_reviews, on=['user_id', 'item_id'])\n",
    "df_combinado2.head()"
   ]
  },
  {
   "cell_type": "code",
   "execution_count": 44,
   "metadata": {},
   "outputs": [],
   "source": [
    "#Elimino columnas innecesarias\n",
    "df_funcion4 = df_combinado2.drop(['user_id', 'items_count', 'item_id', 'item_name',\n",
    "  'playtime_forever','playtime_2weeks', 'genres', \n",
    "    'price', 'posted_year'], axis= 1)"
   ]
  },
  {
   "cell_type": "code",
   "execution_count": 45,
   "metadata": {},
   "outputs": [],
   "source": [
    "#Defino la funcion #4\n",
    "\"\"\"\n",
    "Parametros:\n",
    "        -Anio (int): Se ingresa un año\n",
    "Retorna: \n",
    "        Devuelve el top 3 de desarrolladores \n",
    "        con juegos MÁS recomendados por usuarios para el año dado.\n",
    "        (reviews.recommend = True y comentarios positivos)\n",
    "\"\"\"\n",
    "def best_developer_year(anio):\n",
    "    # Filtrar el DataFrame combinado para obtener los juegos del año especificado\n",
    "    juegos_del_anio = df_funcion4[df_funcion4['Año_estreno'] == str(anio)]\n",
    "\n",
    "    # Filtrar los juegos recomendados (recommend = True y comentarios positivos)\n",
    "    juegos_recomendados = juegos_del_anio[(juegos_del_anio['recommend'] == True) & (juegos_del_anio['sentiment_analisis'] == 2)]\n",
    "\n",
    "    if juegos_recomendados.empty:\n",
    "        return {\"Mensaje\": f\"No hay juegos recomendados para el año {anio}\"}\n",
    "\n",
    "    # Calcular el número de juegos recomendados por desarrollador\n",
    "    juegos_por_desarrollador = juegos_recomendados.groupby('developer')['app_name'].count().reset_index()\n",
    "\n",
    "    # Ordenar por número de juegos recomendados en orden descendente\n",
    "    juegos_por_desarrollador = juegos_por_desarrollador.sort_values(by='app_name', ascending=False).reset_index()\n",
    "\n",
    "    # Tomar los 3 primeros desarrolladores\n",
    "    top_desarrolladores = juegos_por_desarrollador.head(3)\n",
    "\n",
    "    # Construir el resultado en el formato deseado\n",
    "    resultado = [{\"Puesto \" + str(i + 1): row['developer']} for i, row in top_desarrolladores.iterrows()]\n",
    "\n",
    "    return resultado\n"
   ]
  },
  {
   "cell_type": "code",
   "execution_count": 46,
   "metadata": {},
   "outputs": [
    {
     "name": "stdout",
     "output_type": "stream",
     "text": [
      "[{'Puesto 1': 'Psyonix, Inc.'}, {'Puesto 2': 'Trion Worlds'}, {'Puesto 3': 'Kyle Seeley'}]\n"
     ]
    }
   ],
   "source": [
    "# Ejemplo de uso:\n",
    "anio = 2015  # Reemplaza con el año que desees\n",
    "resultado = best_developer_year(anio)\n",
    "print(resultado)"
   ]
  },
  {
   "cell_type": "markdown",
   "metadata": {},
   "source": [
    "FUNCION #5 : developer_reviews_analysis"
   ]
  },
  {
   "cell_type": "code",
   "execution_count": 47,
   "metadata": {},
   "outputs": [
    {
     "data": {
      "text/html": [
       "<div>\n",
       "<style scoped>\n",
       "    .dataframe tbody tr th:only-of-type {\n",
       "        vertical-align: middle;\n",
       "    }\n",
       "\n",
       "    .dataframe tbody tr th {\n",
       "        vertical-align: top;\n",
       "    }\n",
       "\n",
       "    .dataframe thead th {\n",
       "        text-align: right;\n",
       "    }\n",
       "</style>\n",
       "<table border=\"1\" class=\"dataframe\">\n",
       "  <thead>\n",
       "    <tr style=\"text-align: right;\">\n",
       "      <th></th>\n",
       "      <th>developer</th>\n",
       "      <th>sentiment_analisis</th>\n",
       "    </tr>\n",
       "  </thead>\n",
       "  <tbody>\n",
       "    <tr>\n",
       "      <th>0</th>\n",
       "      <td>Valve</td>\n",
       "      <td>1</td>\n",
       "    </tr>\n",
       "    <tr>\n",
       "      <th>1</th>\n",
       "      <td>Valve</td>\n",
       "      <td>2</td>\n",
       "    </tr>\n",
       "    <tr>\n",
       "      <th>2</th>\n",
       "      <td>Valve</td>\n",
       "      <td>1</td>\n",
       "    </tr>\n",
       "    <tr>\n",
       "      <th>3</th>\n",
       "      <td>Valve</td>\n",
       "      <td>2</td>\n",
       "    </tr>\n",
       "    <tr>\n",
       "      <th>4</th>\n",
       "      <td>Valve</td>\n",
       "      <td>1</td>\n",
       "    </tr>\n",
       "  </tbody>\n",
       "</table>\n",
       "</div>"
      ],
      "text/plain": [
       "  developer  sentiment_analisis\n",
       "0     Valve                   1\n",
       "1     Valve                   2\n",
       "2     Valve                   1\n",
       "3     Valve                   2\n",
       "4     Valve                   1"
      ]
     },
     "execution_count": 47,
     "metadata": {},
     "output_type": "execute_result"
    }
   ],
   "source": [
    "#Defino el DataFrame que voy a usar conservando las columnas que necesito\n",
    "df_funcion5 = df_combinado2[[\"developer\", \"sentiment_analisis\"]]\n",
    "df_funcion5.head()"
   ]
  },
  {
   "cell_type": "code",
   "execution_count": 48,
   "metadata": {},
   "outputs": [],
   "source": [
    "#Defino la funcion #5\n",
    "\"\"\"\n",
    "Parametros:\n",
    "        -desarrolladora (str): Se ingresa una desarrolladora \n",
    "Retorna: Diccionario\n",
    "        Devuelve un diccionario con el nombre del desarrollador como llave \n",
    "        y una lista con la cantidad total de registros de reseñas de usuarios que se \n",
    "        encuentren categorizados con un análisis de sentimiento como valor positivo o negativo.\n",
    "\"\"\"\n",
    "def developer_reviews_analysis(desarrolladora):\n",
    "    # Filtrar el DataFrame df_funcion5 por el desarrollador y por análisis de sentimiento positivo o negativo\n",
    "    desarrolladora_reviews = df_funcion5[(df_funcion5['developer'] == desarrolladora) & ((df_funcion5['sentiment_analisis'] == 0) | (df_funcion5['sentiment_analisis'] == 2))]\n",
    "\n",
    "    if desarrolladora_reviews.empty:\n",
    "        return {desarrolladora: {'Positive': 0, 'Negative': 0}}\n",
    "\n",
    "    # Contar la cantidad de reseñas positivas y negativas\n",
    "    count_positive = (desarrolladora_reviews['sentiment_analisis'] == 2).sum()\n",
    "    count_negative = (desarrolladora_reviews['sentiment_analisis'] == 0).sum()\n",
    "\n",
    "    # Crear el diccionario de retorno\n",
    "    resultado = {desarrolladora: [\"Negative = \" + str(count_negative), \"Positive = \" + str(count_positive)]}\n",
    "\n",
    "    return resultado\n"
   ]
  },
  {
   "cell_type": "code",
   "execution_count": 49,
   "metadata": {},
   "outputs": [
    {
     "name": "stdout",
     "output_type": "stream",
     "text": [
      "{'Valve': ['Negative = 675', 'Positive = 2442']}\n"
     ]
    }
   ],
   "source": [
    "# Ejemplo de uso:\n",
    "desarrolladora = 'Valve'  # Reemplaza con el nombre del desarrollador que desees\n",
    "resultado = developer_reviews_analysis(desarrolladora)\n",
    "print(resultado)"
   ]
  },
  {
   "cell_type": "markdown",
   "metadata": {},
   "source": [
    "Creación de archivos\n",
    "Se transforman los DataFrames de las funciones a formato parquet"
   ]
  },
  {
   "cell_type": "code",
   "execution_count": 50,
   "metadata": {},
   "outputs": [],
   "source": [
    "df_funcion1.to_parquet(\"Data/df_funcion1.parquet\")\n",
    "#df_funcion2.to_parquet(\"Data/df_funcion2.parquet\") #No lo uso porque es muy pesado para subir a GH\n",
    "usuario_mas_horas.to_parquet(\"Data/df_funcion2_A.parquet\")\n",
    "tiempo_por_anio.to_parquet(\"Data/df_funcion2_B.parquet\")\n",
    "\n",
    "df_funcion3.to_parquet(\"Data/df_funcion3.parquet\")\n",
    "df_funcion4.to_parquet(\"Data/df_funcion4.parquet\")\n",
    "df_funcion5.to_parquet(\"Data/df_funcion5.parquet\")\n",
    "\n",
    "recommend.to_parquet(\"Data/recommend.parquet\")"
   ]
  }
 ],
 "metadata": {
  "kernelspec": {
   "display_name": "Python 3",
   "language": "python",
   "name": "python3"
  },
  "language_info": {
   "codemirror_mode": {
    "name": "ipython",
    "version": 3
   },
   "file_extension": ".py",
   "mimetype": "text/x-python",
   "name": "python",
   "nbconvert_exporter": "python",
   "pygments_lexer": "ipython3",
   "version": "3.11.4"
  }
 },
 "nbformat": 4,
 "nbformat_minor": 2
}
